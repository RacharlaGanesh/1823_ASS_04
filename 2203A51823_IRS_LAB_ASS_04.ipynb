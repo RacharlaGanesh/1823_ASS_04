{
  "cells": [
    {
      "cell_type": "markdown",
      "metadata": {
        "id": "Vte237kCFtpx"
      },
      "source": [
        "Removing Punctuations"
      ]
    },
    {
      "cell_type": "code",
      "execution_count": 7,
      "metadata": {
        "colab": {
          "base_uri": "https://localhost:8080/"
        },
        "id": "DiJ40SxnF1GZ",
        "outputId": "10f12854-f858-4bc9-d7a4-e46c1cdbdf67"
      },
      "outputs": [
        {
          "name": "stdout",
          "output_type": "stream",
          "text": [
            "Text without Punctuation: Data Science is transforming the way we analyze information \n"
          ]
        }
      ],
      "source": [
        "import string\n",
        "\n",
        "# Example text\n",
        "text = \"Data Science is transforming the way we analyze information \"\n",
        "\n",
        "# Removing punctuations\n",
        "no_punct_text = \"\".join([char for char in text if char not in string.punctuation])\n",
        "\n",
        "# Output results\n",
        "print(\"Text without Punctuation:\", no_punct_text)\n"
      ]
    },
    {
      "cell_type": "markdown",
      "metadata": {
        "id": "7o526ZdRF7Td"
      },
      "source": [
        "Tokenization\n",
        "\n",
        "\n"
      ]
    },
    {
      "cell_type": "code",
      "execution_count": 3,
      "metadata": {
        "colab": {
          "base_uri": "https://localhost:8080/"
        },
        "id": "B3l4PKZYGMZS",
        "outputId": "6eebe3e0-b986-42c1-d90d-498b3f00ce69"
      },
      "outputs": [
        {
          "name": "stderr",
          "output_type": "stream",
          "text": [
            "[nltk_data] Downloading package punkt_tab to /root/nltk_data...\n",
            "[nltk_data]   Unzipping tokenizers/punkt_tab.zip.\n"
          ]
        },
        {
          "name": "stdout",
          "output_type": "stream",
          "text": [
            "Word Tokens: ['Data', 'Science', 'is', 'transforming', 'the', 'way', 'we', 'analyze', 'information', '.']\n"
          ]
        }
      ],
      "source": [
        "import nltk\n",
        "from nltk.tokenize import word_tokenize, sent_tokenize, RegexpTokenizer\n",
        "\n",
        "# Download necessary data\n",
        "nltk.download('punkt_tab')\n",
        "\n",
        "def tokenize_words(text):\n",
        "    return word_tokenize(text)\n",
        "\n",
        "def tokenize_sentences(text):\n",
        "    return sent_tokenize(text)\n",
        "\n",
        "def tokenize_characters(text):\n",
        "    return list(text)\n",
        "\n",
        "# Example text\n",
        "text = \"Data Science is transforming the way we analyze information \"\n",
        "# Tokenization\n",
        "word_tokens = tokenize_words(text)\n",
        "\n",
        "# Output results\n",
        "print(\"Word Tokens:\", word_tokens)"
      ]
    },
    {
      "cell_type": "markdown",
      "metadata": {
        "id": "-KWfigCbGeau"
      },
      "source": [
        "Removing Stop Words"
      ]
    },
    {
      "cell_type": "code",
      "execution_count": 8,
      "metadata": {
        "colab": {
          "base_uri": "https://localhost:8080/"
        },
        "id": "p2k9yLubGyip",
        "outputId": "7ecef62d-988b-4b9c-e13d-969b55119f53"
      },
      "outputs": [
        {
          "name": "stdout",
          "output_type": "stream",
          "text": [
            "Filtered Tokens (without stop words): ['Data', 'Science', 'transforming', 'way', 'analyze', 'information', '.']\n"
          ]
        },
        {
          "name": "stderr",
          "output_type": "stream",
          "text": [
            "[nltk_data] Downloading package stopwords to /root/nltk_data...\n",
            "[nltk_data]   Package stopwords is already up-to-date!\n"
          ]
        }
      ],
      "source": [
        "from nltk.corpus import stopwords\n",
        "nltk.download('stopwords')\n",
        "\n",
        "# Removing Stop Words\n",
        "stop_words = set(stopwords.words('english'))\n",
        "filtered_tokens = [word for word in word_tokens if word.lower() not in stop_words]\n",
        "\n",
        "# Output results\n",
        "print(\"Filtered Tokens (without stop words):\", filtered_tokens)\n"
      ]
    },
    {
      "cell_type": "markdown",
      "metadata": {
        "id": "S2zVEUWdG6Tm"
      },
      "source": [
        "Stemming"
      ]
    },
    {
      "cell_type": "code",
      "execution_count": 9,
      "metadata": {
        "colab": {
          "base_uri": "https://localhost:8080/"
        },
        "id": "fXmiY3bhG91r",
        "outputId": "90e03cb4-e726-4113-f0eb-c1744fbfe3db"
      },
      "outputs": [
        {
          "name": "stdout",
          "output_type": "stream",
          "text": [
            "Stemmed Tokens: ['data', 'scienc', 'transform', 'way', 'analyz', 'inform', '.']\n"
          ]
        }
      ],
      "source": [
        "from nltk.stem import PorterStemmer\n",
        "\n",
        "# Stemming\n",
        "stemmer = PorterStemmer()\n",
        "stemmed_tokens = [stemmer.stem(word) for word in filtered_tokens]\n",
        "\n",
        "# Output results\n",
        "print(\"Stemmed Tokens:\", stemmed_tokens)\n"
      ]
    },
    {
      "cell_type": "markdown",
      "metadata": {
        "id": "PcNIdz_zHEQh"
      },
      "source": [
        "Lemmatization"
      ]
    },
    {
      "cell_type": "code",
      "execution_count": 10,
      "metadata": {
        "colab": {
          "base_uri": "https://localhost:8080/"
        },
        "id": "Pcu_BnWxHKNN",
        "outputId": "48bf5709-ad6b-416f-86a7-f93368da92b7"
      },
      "outputs": [
        {
          "name": "stderr",
          "output_type": "stream",
          "text": [
            "[nltk_data] Downloading package wordnet to /root/nltk_data...\n",
            "[nltk_data] Downloading package omw-1.4 to /root/nltk_data...\n"
          ]
        },
        {
          "name": "stdout",
          "output_type": "stream",
          "text": [
            "Lemmatized Tokens: ['Data', 'Science', 'transforming', 'way', 'analyze', 'information', '.']\n"
          ]
        }
      ],
      "source": [
        "from nltk.stem import WordNetLemmatizer\n",
        "nltk.download('wordnet')\n",
        "nltk.download('omw-1.4')\n",
        "\n",
        "# Lemmatization\n",
        "lemmatizer = WordNetLemmatizer()\n",
        "lemmatized_tokens = [lemmatizer.lemmatize(word) for word in filtered_tokens]\n",
        "\n",
        "# Output results\n",
        "print(\"Lemmatized Tokens:\", lemmatized_tokens)\n"
      ]
    },
    {
      "cell_type": "markdown",
      "metadata": {
        "id": "I3w_AJ57HPW3"
      },
      "source": [
        "BI-GRAM Model"
      ]
    },
    {
      "cell_type": "code",
      "execution_count": 12,
      "metadata": {
        "colab": {
          "base_uri": "https://localhost:8080/"
        },
        "id": "co4P8V_QHS1T",
        "outputId": "abe07a61-690a-48a4-e1a1-2d14c4c264e2"
      },
      "outputs": [
        {
          "name": "stdout",
          "output_type": "stream",
          "text": [
            "Bigrams: [('Data', 'Science'), ('Science', 'transforming'), ('transforming', 'way'), ('way', 'analyze'), ('analyze', 'information'), ('information', '.')]\n"
          ]
        }
      ],
      "source": [
        "from nltk.util import ngrams\n",
        "\n",
        "# Generating BI-GRAMs\n",
        "bigrams = list(ngrams(filtered_tokens, 2))\n",
        "\n",
        "# Output results\n",
        "print(\"Bigrams:\", bigrams)\n"
      ]
    },
    {
      "cell_type": "markdown",
      "metadata": {
        "id": "g9F5TvgvHdMy"
      },
      "source": [
        "TRI-GRAM Model"
      ]
    },
    {
      "cell_type": "code",
      "execution_count": 13,
      "metadata": {
        "colab": {
          "base_uri": "https://localhost:8080/"
        },
        "id": "zY94JF58HgZD",
        "outputId": "db1bb4c1-06c3-4668-8f35-b9d0079cce65"
      },
      "outputs": [
        {
          "name": "stdout",
          "output_type": "stream",
          "text": [
            "Trigrams: [('Data', 'Science', 'transforming'), ('Science', 'transforming', 'way'), ('transforming', 'way', 'analyze'), ('way', 'analyze', 'information'), ('analyze', 'information', '.')]\n"
          ]
        }
      ],
      "source": [
        "# Generating TRI-GRAMs\n",
        "trigrams = list(ngrams(filtered_tokens, 3))\n",
        "\n",
        "# Output results\n",
        "print(\"Trigrams:\", trigrams)\n"
      ]
    }
  ],
  "metadata": {
    "colab": {
      "provenance": []
    },
    "kernelspec": {
      "display_name": "Python 3",
      "name": "python3"
    },
    "language_info": {
      "name": "python"
    }
  },
  "nbformat": 4,
  "nbformat_minor": 0
}
